{
 "cells": [
  {
   "cell_type": "markdown",
   "metadata": {},
   "source": [
    "---\n",
    "#  Richter's Predictor: Modeling Earthquake Damage\n",
    "---\n",
    "\n",
    "# Methodology\n",
    "\n",
    "-   1. Business Understanding\n",
    "-   2. Data Understanding\n",
    "-   3. Data Preparation\n",
    "-   4. Modeling\n",
    "-   5. Evaluation\n",
    "-   6. Deployment\n",
    "---"
   ]
  },
  {
   "cell_type": "markdown",
   "metadata": {},
   "source": [
    "### 1. Business Understanding\n",
    "\n",
    "#### **Objective**\n",
    "The goal of this project is to predict the level of damage to buildings caused by the 2015 Gorkha earthquake in Nepal based on various building and location features. The prediction target is an ordinal variable, `damage_grade`, which has three categories:\n",
    "\n",
    "- **1:** Low damage\n",
    "- **2:** Medium damage\n",
    "- **3:** Severe damage (almost complete destruction)\n",
    "\n",
    "Accurately predicting the level of damage will help local authorities, policymakers, and disaster response teams better allocate resources for post-disaster rebuilding efforts and preventive measures.\n",
    "\n",
    "#### **Key Questions to Answer**\n",
    "- What factors contribute most to earthquake-induced building damage?\n",
    "- Can a predictive model provide actionable insights to identify high-risk structures?\n",
    "- How can this model help inform disaster management strategies?\n",
    "\n",
    "#### **Success Criteria**\n",
    "The success of this project will be evaluated using the **micro-averaged F1 score**, which balances precision and recall across all damage grades.\n",
    "\n",
    "---\n",
    "\n",
    "c\n",
    "\n",
    "#### **Data Description**\n",
    "The dataset consists of information on buildings' structural features, geographic locations, and ownership statuses. Each row represents a specific building affected by the earthquake, with a total of 39 columns:\n",
    "\n",
    "- **Target Variable:** `damage_grade` (1, 2, 3)\n",
    "- **Key Features:**\n",
    "  - `geo_level_1_id`, `geo_level_2_id`, `geo_level_3_id`: Geographic identifiers at different administrative levels.\n",
    "  - `count_floors_pre_eq`: Number of floors before the earthquake.\n",
    "  - `age`: Age of the building in years.\n",
    "  - `area_percentage`: Normalized building footprint area.\n",
    "  - `height_percentage`: Normalized building height.\n",
    "  - `land_surface_condition`: Categorical variable for surface condition (`n`, `o`, `t`).\n",
    "  - `foundation_type`: Categorical variable for foundation type (`h`, `i`, `r`, `u`, `w`).\n",
    "  - `has_superstructure_*`: Binary flags indicating the material used for building superstructures (e.g., `has_superstructure_adobe_mud`, `has_superstructure_rc_engineered`).\n",
    "  - `legal_ownership_status`: Ownership status of the building (`a`, `r`, `v`, `w`).\n",
    "  - `count_families`: Number of families living in the building.\n",
    "\n",
    "#### **Data Characteristics**\n",
    "- **Categorical Variables:** Obfuscated random lowercase ASCII characters that do not imply semantic meaning.\n",
    "- **Binary Variables:** Indicate the presence of specific building features (e.g., superstructure types).\n",
    "- **Numerical Variables:** Include continuous and discrete values such as building age and count of floors.\n",
    "\n",
    "#### **Example Data Row**\n",
    "| Feature                   | Value |\n",
    "|----------------------------|-------|\n",
    "| `geo_level_1_id`          | 8     |\n",
    "| `count_floors_pre_eq`     | 2     |\n",
    "| `age`                     | 15    |\n",
    "| `area_percentage`         | 4     |\n",
    "| `foundation_type`         | r     |\n",
    "| `has_superstructure_adobe_mud` | 1 |\n",
    "| `damage_grade`            | 2     |\n",
    "\n",
    "#### **Performance Metric**\n",
    "The micro-averaged F1 score will be computed using `sklearn.metrics.f1_score` with `average='micro'` to assess model performance.\n",
    "\n",
    "---\n",
    "\n",
    "This structured understanding will guide the data preparation, modeling, and evaluation phases of the project.\n"
   ]
  },
  {
   "cell_type": "markdown",
   "metadata": {},
   "source": [
    "---\n",
    "\n",
    "### 3. Data Preparation\n",
    "---\n",
    "\n",
    "\n"
   ]
  },
  {
   "cell_type": "markdown",
   "metadata": {},
   "source": [
    "####    Data Collection\n",
    "\n"
   ]
  },
  {
   "cell_type": "code",
   "execution_count": 5,
   "metadata": {},
   "outputs": [],
   "source": [
    "import pandas as pd\n",
    "# read data\n",
    "df_train_values= pd.read_csv('data/train_values.csv')\n",
    "df_train_labels = pd.read_csv('data/train_labels.csv')\n",
    "\n",
    "# merge train values and labels for modeling\n",
    "df_train = pd.merge(df_train_values,df_train_labels, on = 'building_id')\n"
   ]
  },
  {
   "cell_type": "markdown",
   "metadata": {},
   "source": [
    "####    Data Inspection"
   ]
  },
  {
   "cell_type": "code",
   "execution_count": 6,
   "metadata": {},
   "outputs": [
    {
     "data": {
      "text/plain": [
       "(260601, 40)"
      ]
     },
     "execution_count": 6,
     "metadata": {},
     "output_type": "execute_result"
    }
   ],
   "source": [
    "df_train.shape"
   ]
  },
  {
   "cell_type": "markdown",
   "metadata": {},
   "source": [
    "-   There are 260601 rows and  40 columns"
   ]
  },
  {
   "cell_type": "code",
   "execution_count": 7,
   "metadata": {},
   "outputs": [
    {
     "name": "stdout",
     "output_type": "stream",
     "text": [
      "<class 'pandas.core.frame.DataFrame'>\n",
      "Int64Index: 260601 entries, 0 to 260600\n",
      "Data columns (total 40 columns):\n",
      " #   Column                                  Non-Null Count   Dtype \n",
      "---  ------                                  --------------   ----- \n",
      " 0   building_id                             260601 non-null  int64 \n",
      " 1   geo_level_1_id                          260601 non-null  int64 \n",
      " 2   geo_level_2_id                          260601 non-null  int64 \n",
      " 3   geo_level_3_id                          260601 non-null  int64 \n",
      " 4   count_floors_pre_eq                     260601 non-null  int64 \n",
      " 5   age                                     260601 non-null  int64 \n",
      " 6   area_percentage                         260601 non-null  int64 \n",
      " 7   height_percentage                       260601 non-null  int64 \n",
      " 8   land_surface_condition                  260601 non-null  object\n",
      " 9   foundation_type                         260601 non-null  object\n",
      " 10  roof_type                               260601 non-null  object\n",
      " 11  ground_floor_type                       260601 non-null  object\n",
      " 12  other_floor_type                        260601 non-null  object\n",
      " 13  position                                260601 non-null  object\n",
      " 14  plan_configuration                      260601 non-null  object\n",
      " 15  has_superstructure_adobe_mud            260601 non-null  int64 \n",
      " 16  has_superstructure_mud_mortar_stone     260601 non-null  int64 \n",
      " 17  has_superstructure_stone_flag           260601 non-null  int64 \n",
      " 18  has_superstructure_cement_mortar_stone  260601 non-null  int64 \n",
      " 19  has_superstructure_mud_mortar_brick     260601 non-null  int64 \n",
      " 20  has_superstructure_cement_mortar_brick  260601 non-null  int64 \n",
      " 21  has_superstructure_timber               260601 non-null  int64 \n",
      " 22  has_superstructure_bamboo               260601 non-null  int64 \n",
      " 23  has_superstructure_rc_non_engineered    260601 non-null  int64 \n",
      " 24  has_superstructure_rc_engineered        260601 non-null  int64 \n",
      " 25  has_superstructure_other                260601 non-null  int64 \n",
      " 26  legal_ownership_status                  260601 non-null  object\n",
      " 27  count_families                          260601 non-null  int64 \n",
      " 28  has_secondary_use                       260601 non-null  int64 \n",
      " 29  has_secondary_use_agriculture           260601 non-null  int64 \n",
      " 30  has_secondary_use_hotel                 260601 non-null  int64 \n",
      " 31  has_secondary_use_rental                260601 non-null  int64 \n",
      " 32  has_secondary_use_institution           260601 non-null  int64 \n",
      " 33  has_secondary_use_school                260601 non-null  int64 \n",
      " 34  has_secondary_use_industry              260601 non-null  int64 \n",
      " 35  has_secondary_use_health_post           260601 non-null  int64 \n",
      " 36  has_secondary_use_gov_office            260601 non-null  int64 \n",
      " 37  has_secondary_use_use_police            260601 non-null  int64 \n",
      " 38  has_secondary_use_other                 260601 non-null  int64 \n",
      " 39  damage_grade                            260601 non-null  int64 \n",
      "dtypes: int64(32), object(8)\n",
      "memory usage: 81.5+ MB\n"
     ]
    }
   ],
   "source": [
    "df_train.info()"
   ]
  },
  {
   "cell_type": "markdown",
   "metadata": {},
   "source": [
    "-   The features are diverse, some are numerical, others binary, yet others are strings"
   ]
  },
  {
   "cell_type": "code",
   "execution_count": 8,
   "metadata": {},
   "outputs": [
    {
     "data": {
      "text/plain": [
       "building_id                               0\n",
       "geo_level_1_id                            0\n",
       "geo_level_2_id                            0\n",
       "geo_level_3_id                            0\n",
       "count_floors_pre_eq                       0\n",
       "age                                       0\n",
       "area_percentage                           0\n",
       "height_percentage                         0\n",
       "land_surface_condition                    0\n",
       "foundation_type                           0\n",
       "roof_type                                 0\n",
       "ground_floor_type                         0\n",
       "other_floor_type                          0\n",
       "position                                  0\n",
       "plan_configuration                        0\n",
       "has_superstructure_adobe_mud              0\n",
       "has_superstructure_mud_mortar_stone       0\n",
       "has_superstructure_stone_flag             0\n",
       "has_superstructure_cement_mortar_stone    0\n",
       "has_superstructure_mud_mortar_brick       0\n",
       "has_superstructure_cement_mortar_brick    0\n",
       "has_superstructure_timber                 0\n",
       "has_superstructure_bamboo                 0\n",
       "has_superstructure_rc_non_engineered      0\n",
       "has_superstructure_rc_engineered          0\n",
       "has_superstructure_other                  0\n",
       "legal_ownership_status                    0\n",
       "count_families                            0\n",
       "has_secondary_use                         0\n",
       "has_secondary_use_agriculture             0\n",
       "has_secondary_use_hotel                   0\n",
       "has_secondary_use_rental                  0\n",
       "has_secondary_use_institution             0\n",
       "has_secondary_use_school                  0\n",
       "has_secondary_use_industry                0\n",
       "has_secondary_use_health_post             0\n",
       "has_secondary_use_gov_office              0\n",
       "has_secondary_use_use_police              0\n",
       "has_secondary_use_other                   0\n",
       "damage_grade                              0\n",
       "dtype: int64"
      ]
     },
     "execution_count": 8,
     "metadata": {},
     "output_type": "execute_result"
    }
   ],
   "source": [
    "df_train.isna().sum()"
   ]
  },
  {
   "cell_type": "markdown",
   "metadata": {},
   "source": [
    "-   The dataset is very complete in that there are no null values"
   ]
  },
  {
   "cell_type": "markdown",
   "metadata": {},
   "source": [
    "####    Feature Inspection\n",
    "\n",
    "From the data source [link](https://www.drivendata.org/competitions/57/nepal-earthquake/), these are descriptions of the features:\n",
    "\n",
    "| **Feature Name** | **Description** |  \n",
    "|------------------|-----------------|  \n",
    "| `geo_level_1_id`, `geo_level_2_id`, `geo_level_3_id` | Geographic region in which the building exists, from the largest (level 1) to the most specific sub-region (level 3). Possible values: level 1 (0-30), level 2 (0-1427), level 3 (0-12567). |  \n",
    "| `count_floors_pre_eq` | Number of floors in the building before the earthquake. |  \n",
    "| `age` | Age of the building in years. |  \n",
    "| `area_percentage` | Normalized area of the building footprint. |  \n",
    "| `height_percentage` | Normalized height of the building footprint. |  \n",
    "| `land_surface_condition` | Surface condition of the land where the building was built. Possible values: `n`, `o`, `t`. |  \n",
    "| `foundation_type` | Type of foundation used while building. Possible values: `h`, `i`, `r`, `u`, `w`. |  \n",
    "| `roof_type` | Type of roof used while building. Possible values: `n`, `q`, `x`. |  \n",
    "| `ground_floor_type` | Type of the ground floor. Possible values: `f`, `m`, `v`, `x`, `z`. |  \n",
    "| `other_floor_type` | Type of constructions used in higher than the ground floors (except for roof). Possible values: `j`, `q`, `s`, `x`. |  \n",
    "| `position` | Position of the building. Possible values: `j`, `o`, `s`, `t`. |  \n",
    "| `plan_configuration` | Building plan configuration. Possible values: `a`, `c`, `d`, `f`, `m`, `n`, `o`, `q`, `s`, `u`. |  \n",
    "| `has_superstructure_adobe_mud` | Flag indicating if the superstructure was made of Adobe/Mud. |  \n",
    "| `has_superstructure_mud_mortar_stone` | Flag indicating if the superstructure was made of Mud Mortar - Stone. |  \n",
    "| `has_superstructure_stone_flag` | Flag indicating if the superstructure was made of Stone. |  \n",
    "| `has_superstructure_cement_mortar_stone` | Flag indicating if the superstructure was made of Cement Mortar - Stone. |  \n",
    "| `has_superstructure_mud_mortar_brick` | Flag indicating if the superstructure was made of Mud Mortar - Brick. |  \n",
    "| `has_superstructure_cement_mortar_brick` | Flag indicating if the superstructure was made of Cement Mortar - Brick. |  \n",
    "| `has_superstructure_timber` | Flag indicating if the superstructure was made of Timber. |  \n",
    "| `has_superstructure_bamboo` | Flag indicating if the superstructure was made of Bamboo. |  \n",
    "| `has_superstructure_rc_non_engineered` | Flag indicating if the superstructure was made of non-engineered reinforced concrete. |  \n",
    "| `has_superstructure_rc_engineered` | Flag indicating if the superstructure was made of engineered reinforced concrete. |  \n",
    "| `has_superstructure_other` | Flag indicating if the superstructure was made of any other material. |  \n",
    "| `legal_ownership_status` | Legal ownership status of the land where the building was built. Possible values: `a`, `r`, `v`, `w`. |  \n",
    "| `count_families` | Number of families living in the building. |  \n",
    "| `has_secondary_use` | Flag indicating if the building was used for any secondary purpose. |  \n",
    "| `has_secondary_use_agriculture` | Flag indicating if the building was used for agricultural purposes. |  \n",
    "| `has_secondary_use_hotel` | Flag indicating if the building was used as a hotel. |  \n",
    "| `has_secondary_use_rental` | Flag indicating if the building was used for rental purposes. |  \n",
    "| `has_secondary_use_institution` | Flag indicating if the building was used as an institution. |  \n",
    "| `has_secondary_use_school` | Flag indicating if the building was used as a school. |  \n",
    "| `has_secondary_use_industry` | Flag indicating if the building was used for industrial purposes. |  \n",
    "| `has_secondary_use_health_post` | Flag indicating if the building was used as a health post. |  \n",
    "| `has_secondary_use_gov_office` | Flag indicating if the building was used as a government office. |  \n",
    "| `has_secondary_use_use_police` | Flag indicating if the building was used as a police station. |  \n",
    "| `has_secondary_use_other` | Flag indicating if the building was secondarily used for other purposes. |  \n",
    "\n"
   ]
  },
  {
   "cell_type": "markdown",
   "metadata": {},
   "source": []
  }
 ],
 "metadata": {
  "kernelspec": {
   "display_name": "learn-env",
   "language": "python",
   "name": "python3"
  },
  "language_info": {
   "codemirror_mode": {
    "name": "ipython",
    "version": 3
   },
   "file_extension": ".py",
   "mimetype": "text/x-python",
   "name": "python",
   "nbconvert_exporter": "python",
   "pygments_lexer": "ipython3",
   "version": "3.8.5"
  }
 },
 "nbformat": 4,
 "nbformat_minor": 2
}
